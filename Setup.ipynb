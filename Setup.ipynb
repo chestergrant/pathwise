{
 "cells": [
  {
   "cell_type": "code",
   "execution_count": null,
   "id": "b44c1d2e-397e-427a-9974-4049b0db9a28",
   "metadata": {},
   "outputs": [],
   "source": [
    "!pip install gradio"
   ]
  },
  {
   "cell_type": "code",
   "execution_count": null,
   "id": "27cf4a1b-d78d-46e1-8a46-b1320083c78a",
   "metadata": {},
   "outputs": [],
   "source": [
    "!pip install langchain langchain-core"
   ]
  },
  {
   "cell_type": "code",
   "execution_count": null,
   "id": "6c563375-7dd2-4388-910b-5f933b7720ae",
   "metadata": {},
   "outputs": [],
   "source": [
    "!pip install langchain-community"
   ]
  },
  {
   "cell_type": "code",
   "execution_count": null,
   "id": "9538aa56-575b-41fd-84d8-a0bf193e7254",
   "metadata": {},
   "outputs": [],
   "source": [
    "!pip install faiss-cpu"
   ]
  },
  {
   "cell_type": "code",
   "execution_count": null,
   "id": "fcfd57ef-33f0-40bb-b4a6-f1cc40c55795",
   "metadata": {},
   "outputs": [],
   "source": [
    "!pip install langchain_nvidia_ai_endpoints"
   ]
  },
  {
   "cell_type": "code",
   "execution_count": null,
   "id": "14716a11-4904-492f-9bbb-0b4fff8014b0",
   "metadata": {},
   "outputs": [],
   "source": [
    "!pip install feedparser"
   ]
  },
  {
   "cell_type": "code",
   "execution_count": null,
   "id": "096a3f6d-8afc-48c4-98f0-63d0b400b6f6",
   "metadata": {},
   "outputs": [],
   "source": [
    "!pip install waybackpy"
   ]
  },
  {
   "cell_type": "code",
   "execution_count": null,
   "id": "1ce2b641-a279-46ad-abcc-5c9ae192f1a3",
   "metadata": {},
   "outputs": [],
   "source": [
    "%pip uninstall -y newspaper\n",
    "%pip install newspaper3k"
   ]
  },
  {
   "cell_type": "code",
   "execution_count": null,
   "id": "6f8155d8-ffa6-48bb-afb6-fb1b4e49dd65",
   "metadata": {},
   "outputs": [],
   "source": [
    "%pip install --upgrade lxml\n",
    "%pip install lxml_html_clean\n"
   ]
  },
  {
   "cell_type": "code",
   "execution_count": null,
   "id": "ffc26c5b-d5d3-4dc2-a587-270d648163a4",
   "metadata": {},
   "outputs": [],
   "source": [
    "print(\"Done! Restart the Kernel\")"
   ]
  },
  {
   "cell_type": "code",
   "execution_count": null,
   "id": "33ef0157-899c-42fb-97f3-cbea04232c2e",
   "metadata": {},
   "outputs": [],
   "source": []
  }
 ],
 "metadata": {
  "kernelspec": {
   "display_name": "Python 3 (ipykernel)",
   "language": "python",
   "name": "python3"
  },
  "language_info": {
   "codemirror_mode": {
    "name": "ipython",
    "version": 3
   },
   "file_extension": ".py",
   "mimetype": "text/x-python",
   "name": "python",
   "nbconvert_exporter": "python",
   "pygments_lexer": "ipython3",
   "version": "3.10.12"
  }
 },
 "nbformat": 4,
 "nbformat_minor": 5
}
